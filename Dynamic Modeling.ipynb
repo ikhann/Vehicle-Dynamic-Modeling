{
 "cells": [
  {
   "cell_type": "markdown",
   "metadata": {},
   "source": [
    "# Динамическая модель движения автомобиля\n",
    " 19.02.2020\n",
    "###### Даниил Ханинаев, khaninaev@yahoo.com"
   ]
  },
  {
   "cell_type": "code",
   "execution_count": 1,
   "metadata": {},
   "outputs": [],
   "source": [
    "from IPython.display import Image"
   ]
  },
  {
   "cell_type": "markdown",
   "metadata": {},
   "source": [
    "Чтобы реализовать динамическую модель движения, нам необходимо проделать следующие шаги:\n",
    "<ul>\n",
    "<li>Ввести системы координат</li>\n",
    "<li>Определить все сили и моменты, действующие на объект </li>\n",
    "<li>Используя 2-ой закон Ньютона, составить дифференциальное уравнение, описывающее движение объекта</li>\n",
    "</ul>\n",
    "\n"
   ]
  },
  {
   "cell_type": "code",
   "execution_count": 2,
   "metadata": {},
   "outputs": [
    {
     "data": {
      "text/html": [
       "<img src=\"images/rigidbody.png\" width=\"400\"/>"
      ],
      "text/plain": [
       "<IPython.core.display.Image object>"
      ]
     },
     "execution_count": 2,
     "metadata": {},
     "output_type": "execute_result"
    }
   ],
   "source": [
    "Image(url= \"images/rigidbody.png\", width=400)"
   ]
  },
  {
   "cell_type": "markdown",
   "metadata": {},
   "source": [
    "Разделим нашу динамическую модель движения на две составляющие:\n",
    "<ul>\n",
    "<li>Динамическая модель продольного движения</li>\n",
    "<li>Динамическая модель поперечного движения</li>\n",
    "</ul>"
   ]
  },
  {
   "cell_type": "code",
   "execution_count": 3,
   "metadata": {},
   "outputs": [
    {
     "data": {
      "text/html": [
       "<img src=\"images/Vehicle_axis.png\" width=\"400\"/>"
      ],
      "text/plain": [
       "<IPython.core.display.Image object>"
      ]
     },
     "execution_count": 3,
     "metadata": {},
     "output_type": "execute_result"
    }
   ],
   "source": [
    "Image(url= \"images/Vehicle_axis.png\", width=400)"
   ]
  },
  {
   "cell_type": "markdown",
   "metadata": {},
   "source": [
    "### Динамическая модель продольного движения автомобиля"
   ]
  },
  {
   "cell_type": "markdown",
   "metadata": {},
   "source": [
    "Ограничим движение автомобиля в плоскости XZ. \n",
    "\n",
    "Существует несколько сил, действующих на кузов автомобиля и шины, включая силу тяги, сопротивление качению, аэродинамическую силу и силу сопротивления, обусловленную гравитацией.\n",
    "Динамическая модель продольного движения учитывает движение объекта по наклонной дороге."
   ]
  },
  {
   "cell_type": "markdown",
   "metadata": {},
   "source": [
    "![title](images/long_motion1.png)"
   ]
  },
  {
   "cell_type": "markdown",
   "metadata": {},
   "source": [
    "Модель основана на динамике транспортного средства, генерирующего поступательное движение. На рисунке представлено типичное продольное движение транспортного средства по наклонной дороге. \n",
    "\n",
    "Силы, действующие на транспортное средство и шины:\n",
    "<ul>\n",
    "<li>$ F_{xf} $ и $ F_{xr} $ - усилие, передаваемое передним и задним колесами на дорогу</li>\n",
    "<li>$ F_{aero} $ - аэродинамическая сила лобового сопртивления</li>\n",
    "<li>$ R_{xf} $ и $ R_{xr} $ - сопротивление качению, соответсвенно переднего и заднего колеса</li>\n",
    "<li>$ mgsin\\alpha $ - сила сопротивления, обусловленная гравитацией (угол $\\alpha$ - уклон дороги)</li>\n",
    "</ul>"
   ]
  },
  {
   "cell_type": "markdown",
   "metadata": {},
   "source": [
    "###### Получим дифференциальное уравнение:"
   ]
  },
  {
   "cell_type": "markdown",
   "metadata": {},
   "source": [
    "\\begin{align}\n",
    "     m\\ddot{x} &= F_{xf} + F_{xr} - F_{aero} - R_{xf} - R_{xr} - mgsin\\alpha \\quad(1)\n",
    "\\end{align}"
   ]
  },
  {
   "cell_type": "markdown",
   "metadata": {},
   "source": [
    "Подведенный от трансмиссии к колесам крутящий момент создает силу тяги $F_x$, обеспечивающую движение автомобиля в результате взаимодействия колес с дорогой. \n"
   ]
  },
  {
   "cell_type": "markdown",
   "metadata": {},
   "source": [
    "Можно сделать вывод о том, что для того чтобы автомобиль двигался в положительном направлении (согласно рисунку), необходимо, чтобы сила тяги была достаточной для преодоления аэродинамической силы, силы тяжести и сил сопротивления качению колес. "
   ]
  },
  {
   "cell_type": "markdown",
   "metadata": {},
   "source": [
    "Суммарная сила сопротивления $F_{load}$:"
   ]
  },
  {
   "cell_type": "markdown",
   "metadata": {},
   "source": [
    "\\begin{align}\n",
    "    R_x &= R_{xf} + R_{xr} \\\\\n",
    "    F_g &= mgsin\\alpha \\\\\n",
    "    F_{load} &= F_{aero} + R_x + F_g \\quad(2)\\\\\n",
    "\\end{align}"
   ]
  },
  {
   "cell_type": "markdown",
   "metadata": {},
   "source": [
    "Аэродинамическая сила $ F_{aero}  $ определяется как (считаем, что скорость ветра отсутствует):\n"
   ]
  },
  {
   "cell_type": "markdown",
   "metadata": {},
   "source": [
    "\\begin{align}\n",
    "    F_{aero} &= \\frac{1}{2} C_a \\rho A \\dot{x}^2,\\\\\n",
    "\\end{align}"
   ]
  },
  {
   "cell_type": "markdown",
   "metadata": {},
   "source": [
    "где $\\rho$ - плотность воздуха, кг/м3;$$$$\n",
    "$C_a$ - коэффициент аэродинамического сопротивления; $$$$\n",
    "$A$ - эффективная площадь сопротивления автомобиля; $$$$\n",
    "$\\dot{x} = V_x$ - продольная скорость автомобиля."
   ]
  },
  {
   "cell_type": "markdown",
   "metadata": {},
   "source": [
    "Учитывая фиксированное миделевое сечение автомобиляя и нормальное атмосферное давление, мы можем определить простой \n",
    "коэффициент аэродинамического сопротивления $c_a$ и умножить его на квадрат продольной скорости, чтобы получить силу лобового сопротивления."
   ]
  },
  {
   "cell_type": "markdown",
   "metadata": {},
   "source": [
    "\\begin{align}\n",
    "    F_{aero} &= c_a \\dot{x}^2,\\\\\n",
    "\\end{align}"
   ]
  },
  {
   "cell_type": "markdown",
   "metadata": {},
   "source": [
    "Сила сопротивления качению в нормальных условиях может быть определена как:"
   ]
  },
  {
   "cell_type": "markdown",
   "metadata": {},
   "source": [
    "\\begin{align}\n",
    "    R_x &= N(\\hat{c}_{r,0} + \\hat{c}_{r,1}|\\dot{x}| + \\hat{c}_{r,2}\\dot{x}^2) \\approx c_{r,1} \\dot{x}\\\\\n",
    "\\end{align}"
   ]
  },
  {
   "cell_type": "markdown",
   "metadata": {},
   "source": [
    "где $c_{r,1}$ - коэффициент трения качения, который в общем случае лежит в диапазоне значений от 0.04 до 0.01. Для  пассажирских автомобилей коэффициент имеет величину 0.015 (Wong, 2001)."
   ]
  },
  {
   "cell_type": "markdown",
   "metadata": {},
   "source": [
    "##### Динамическая модель привода"
   ]
  },
  {
   "cell_type": "markdown",
   "metadata": {},
   "source": [
    "Как уже упоминалось ранее, сила тяги $F_x$, передаваемая колесами на дорогу, является основной силой, которая заставляет автомобиль двигаться вперед.\n",
    "\n",
    "Эта сила зависит от разницы между вращательной скоростю колеса  $r_{eff}\\omega_w $ и продольной скоростю транспортного средства $\\dot{x}$."
   ]
  },
  {
   "cell_type": "markdown",
   "metadata": {},
   "source": [
    "В свою очередь, угловая скорость вращения колеса $\\omega_w $ сильно зависит от динамических параметров привода. Основные компоненты привода показаны на рисунке ниже."
   ]
  },
  {
   "cell_type": "code",
   "execution_count": 11,
   "metadata": {},
   "outputs": [
    {
     "data": {
      "text/html": [
       "<img src=\"images/transmission.png\" width=\"700\"/>"
      ],
      "text/plain": [
       "<IPython.core.display.Image object>"
      ]
     },
     "execution_count": 11,
     "metadata": {},
     "output_type": "execute_result"
    }
   ],
   "source": [
    "Image(url= \"images/transmission.png\", width=700)"
   ]
  },
  {
   "cell_type": "markdown",
   "metadata": {},
   "source": [
    "Согласно рисунку, можем получить следующие соотношения:"
   ]
  },
  {
   "cell_type": "markdown",
   "metadata": {},
   "source": [
    "1. Угловая скорость вращения колеса $\\omega_w $ выражается как $\\omega_w = (GR)\\omega_e $,  где $\\omega_e$ - угловая скрость двигателя;\n",
    "$GR$ - передаточный коэффициент."
   ]
  },
  {
   "cell_type": "markdown",
   "metadata": {},
   "source": [
    "2. Продольная скорость $\\dot{x}=r_{eff}\\omega_w $, где $r_{eff}$ - эффективный радиус шины."
   ]
  },
  {
   "cell_type": "markdown",
   "metadata": {},
   "source": [
    "3. Продольное ускорение $\\ddot{x}=r_{eff}GR\\dot{\\omega_e} \\quad(3)$."
   ]
  },
  {
   "cell_type": "markdown",
   "metadata": {},
   "source": [
    "На рисунке ниже изображена диаграмма передачи угловых скоростей и моментов от двигателя к колесу, а также получены их соотношения для каждого узла привода, где $I_x$ - момент инерции, $M_x$ - вращающий момент, $\\omega_x $ - угловая скорость."
   ]
  },
  {
   "cell_type": "code",
   "execution_count": 12,
   "metadata": {},
   "outputs": [
    {
     "data": {
      "text/html": [
       "<img src=\"images/powerflow.png\" width=\"700\"/>"
      ],
      "text/plain": [
       "<IPython.core.display.Image object>"
      ]
     },
     "execution_count": 12,
     "metadata": {},
     "output_type": "execute_result"
    }
   ],
   "source": [
    "Image(url= \"images/powerflow.png\", width=700)"
   ]
  },
  {
   "cell_type": "markdown",
   "metadata": {},
   "source": [
    "Если мы вернемся к исходной модели продольного движения, то увидим зависимость силы тяги $F_x$ от углового ускорения двигателя $\\dot{\\omega_e}$. Выразим силу тяги через уравнения (1), (2) и (3):"
   ]
  },
  {
   "cell_type": "markdown",
   "metadata": {},
   "source": [
    "$$ F_x = m\\ddot{x} + F_{load} = mr_{eff}GR\\dot{\\omega_e}\\quad(4)$$"
   ]
  },
  {
   "cell_type": "markdown",
   "metadata": {},
   "source": [
    "Сгруппируя полученное уравнение (4) и уравнения из рисунка выше, получим динамическую модель привода:"
   ]
  },
  {
   "cell_type": "markdown",
   "metadata": {},
   "source": [
    " $ (I_e + I_t + I_wGR^2 + m(GR^2)r_{eff}^2)\\dot{\\omega_e}= T_{engine} - (GR)(r_{eff}F_{load})$"
   ]
  },
  {
   "cell_type": "markdown",
   "metadata": {},
   "source": [
    "Введем $J_e = I_e + I_t + I_wGR^2 + m(GR^2)r_{eff}^2$."
   ]
  },
  {
   "cell_type": "markdown",
   "metadata": {},
   "source": [
    "Модель упрощается до следующего уравнения, которое уравновешивает крутящий момент двигателя $T_{engine}$ с суммарным крутящим моментом сопротивления $T_{load} = (GR)(r_{eff}F_{load})$ для управления ускорением двигателя и, следовательно, продольным ускорением автомобиля:"
   ]
  },
  {
   "cell_type": "markdown",
   "metadata": {},
   "source": [
    " ### $$ J_e\\dot{\\omega_e}= T_{engine} - (GR)(r_{eff}F_{load})$$"
   ]
  },
  {
   "cell_type": "markdown",
   "metadata": {},
   "source": [
    "### Коэффициент скольжения"
   ]
  },
  {
   "cell_type": "markdown",
   "metadata": {},
   "source": [
    "Шина является связующим звеном между автомобилем и дорогой, и внешние силы, действующие на транспортное средство, полностью определяются способностями шины генерировать их. Таким образом, чтобы полностью проанализировать динамику автомобиля и разработать систему управления на основе динамических моделей, очень важно иметь хорошую модель, которая бы учитывала поведение шины, генерирующей силу во всем ее рабочем диапазоне.\n",
    "\n",
    "Для этого введем такое понятие как коэффициент скольжения $s$:"
   ]
  },
  {
   "cell_type": "markdown",
   "metadata": {},
   "source": [
    " $$s = \\frac{\\omega_w r_e - V_{x}}{V_{x}}$$"
   ]
  },
  {
   "cell_type": "markdown",
   "metadata": {},
   "source": [
    "Коэффициент скольжения отражает взаимосвязь между деформацией шины и продольными силами, действующими на нее."
   ]
  },
  {
   "cell_type": "code",
   "execution_count": 32,
   "metadata": {},
   "outputs": [
    {
     "data": {
      "text/html": [
       "<img src=\"images/slip_ratio.png\" width=\"450\"/>"
      ],
      "text/plain": [
       "<IPython.core.display.Image object>"
      ]
     },
     "execution_count": 32,
     "metadata": {},
     "output_type": "execute_result"
    }
   ],
   "source": [
    "Image(url= \"images/slip_ratio.png\", width=450)"
   ]
  },
  {
   "cell_type": "markdown",
   "metadata": {},
   "source": [
    "При ускорении или торможении наблюдаемая угловая скорость колеса не соответствует ожидаемой скорости продольного движения, что приводит к скольжению между колесом и дорогой в дополнение к качению."
   ]
  },
  {
   "cell_type": "markdown",
   "metadata": {},
   "source": [
    "Рассмотрим два случая различия между рассматриваемыми скоростями:"
   ]
  },
  {
   "cell_type": "markdown",
   "metadata": {},
   "source": [
    "1. $\\omega_w r_e < V_{x}$ - это явление в автомобильным терминологии называется Юз - проскальзывание колёс при торможении."
   ]
  },
  {
   "cell_type": "markdown",
   "metadata": {},
   "source": [
    "2. $\\omega_w r_e > V_{x}$ - в этом случае колеса буксуют, обычно буксование возникает вследствие превышения силой тяги силы сцепления колеса на обледенелых дорогах или при дрифте."
   ]
  },
  {
   "cell_type": "markdown",
   "metadata": {},
   "source": [
    "## Реализация динамической модели продольного движения автомобиля"
   ]
  },
  {
   "cell_type": "markdown",
   "metadata": {},
   "source": [
    "В этом блокноте Jupyter реализуем динамическую модель продольного движения автомобиля."
   ]
  },
  {
   "cell_type": "markdown",
   "metadata": {},
   "source": [
    "Модель принимает на вход положение педали акселератора в процентах $x_\\theta \\in [0,1]$, которое обеспечивает крутящий момент двигателя и впоследствии придает транспортному средству движения вперед.\n",
    "\n",
    "Динамические уравнения состоят из нескольких этапов преобразования входного сигнала в частоту вращения колеса (двигатель -> преобразователь момента -> трансмиссия -> колесо). Эти этапы объединены в один инерционный член $J_e$, который используется в следующих комбинированных динамических уравнениях привода:\n",
    "\n",
    "\n",
    "\\begin{align}\n",
    "    J_e \\dot{\\omega}_e &= T_e - (GR)(r_{eff} F_{load}) \\\\ m\\ddot{x} &= F_x - F_{load},\n",
    "\\end{align}\n",
    "\n",
    "где $T_e$ - крутящий момент двигателя, $GR$ - передаточный коэффициент, $r_{eff}$ - эффективный радиус шины, $m$ - масса автомобиля, $x$ - положение транспортного средства, $F_x$ - усилие, передаваемое шиной на дорогу и $F_{load}$ - общая сила сопротивления.\n",
    "\n",
    "Крутящий момент двигателя вычисляется по положению педали акселератора и угловой скорости двигателя $\\omega_e$ с использованием упрощенной квадратичной модели:\n",
    "\n",
    "\\begin{align}\n",
    "    T_e = x_{\\theta}(a_0 + a_1 \\omega_e + a_2 \\omega_e^2)\n",
    "\\end{align}\n",
    "\n",
    "Суммарная сила сопротивления состоит их аэродинамической силы $F_{aero}$, гравитационной силы  $F_g$  и силы сопротивления качению колес $R_x$.  Аэродинамическое сопротивление - это квадратичная модель, а сопротивление качению - линейная модель.\n",
    "\n",
    "\\begin{align}\n",
    "    F_{load} &= F_{aero} + R_x + F_g \\\\\n",
    "    F_{aero} &= \\frac{1}{2} C_a \\rho A \\dot{x}^2 = c_a \\dot{x}^2\\\\\n",
    "    R_x &= N(\\hat{c}_{r,0} + \\hat{c}_{r,1}|\\dot{x}| + \\hat{c}_{r,2}\\dot{x}^2) \\approx c_{r,1} \\dot{x}\\\\\n",
    "    F_g &= mg\\sin{\\alpha}\n",
    "\\end{align}\n",
    "\n",
    "Сила тяги (усилие, передаваемое шиной на дорогу) рассчитывается с использованием уравнений скорости двигателя и скольжения колес.\n",
    "\n",
    "\\begin{align}\n",
    "    \\omega_w &= (GR)\\omega_e \\\\\n",
    "    s &= \\frac{\\omega_w r_e - \\dot{x}}{\\dot{x}}\\\\\n",
    "    F_x &= \\left\\{\\begin{array}{lr}\n",
    "        cs, &  |s| < 1\\\\\n",
    "        F_{max}, & \\text{иначе},\n",
    "        \\end{array}\\right\\} \n",
    "\\end{align}\n",
    "\n",
    "где $\\omega_w$ - угловая скорость колеса, а $s$ - коэффициент скольжения.\n",
    "\n",
    "\n",
    "Ниже задается модель продольного движения внутри класса на языке программирования Python.\n",
    "\n",
    "Автомобиль начинает движение с начальной скоростью 5 м/с и частотой вращения двигателя 100 рад/с. Для численного интегрирования используется период дискретизации 0,01с. "
   ]
  },
  {
   "cell_type": "code",
   "execution_count": 4,
   "metadata": {},
   "outputs": [],
   "source": [
    "import sys\n",
    "import numpy as np\n",
    "import matplotlib.pyplot as plt\n",
    "import matplotlib.image as mpimg\n",
    "\n",
    "class Vehicle():\n",
    "    def __init__(self):\n",
    " \n",
    "        # ==================================\n",
    "        #  Parameters\n",
    "        # ==================================\n",
    "    \n",
    "        #Accelerator Pedal Position to engine torque\n",
    "        self.a_0 = 400\n",
    "        self.a_1 = 0.1\n",
    "        self.a_2 = -0.0002\n",
    "        \n",
    "        # Gear ratio, effective radius, mass + inertia\n",
    "        self.GR = 0.35\n",
    "        self.r_e = 0.3\n",
    "        self.J_e = 10\n",
    "        self.m = 2000\n",
    "        self.g = 9.81\n",
    "        \n",
    "        # Aerodynamic and friction coefficients\n",
    "        self.c_a = 1.36\n",
    "        self.c_r1 = 0.01\n",
    "        \n",
    "        # Tire force \n",
    "        self.c = 10000\n",
    "        self.F_max = 10000\n",
    "        \n",
    "        # State variables\n",
    "        self.x = 0\n",
    "        self.v = 5\n",
    "        self.a = 0\n",
    "        self.w_e = 100\n",
    "        self.w_e_dot = 0\n",
    "        \n",
    "        self.sample_time = 0.01\n",
    "        \n",
    "    def reset(self):\n",
    "        # reset state variables\n",
    "        self.x = 0\n",
    "        self.v = 5\n",
    "        self.a = 0\n",
    "        self.w_e = 100\n",
    "        self.w_e_dot = 0"
   ]
  },
  {
   "cell_type": "markdown",
   "metadata": {},
   "source": [
    "Функция $\\textit{step}$ принимает положение педали акселератора $x_\\theta$   и угол наклона $\\alpha$ в качестве входных данных и выполняет численное интегрирование за один шаг для обновления переменных состояния."
   ]
  },
  {
   "cell_type": "code",
   "execution_count": 5,
   "metadata": {},
   "outputs": [],
   "source": [
    "class Vehicle(Vehicle):\n",
    "    def step(self, throttle, alpha):\n",
    "        # ==================================\n",
    "        #  Implementation of vehicle model\n",
    "        # ==================================\n",
    "        T_e = throttle * (self.a_0 + self.a_1*self.w_e + self.a_2*self.w_e*self.w_e)\n",
    "        \n",
    "        F_aero = self.c_a * self.v * self.v\n",
    "        R_x = self.c_r1 * self.v\n",
    "        F_g = self.m * self.g * np.sin(alpha)\n",
    "        F_load = F_aero + R_x + F_g\n",
    "        \n",
    "        self.w_e_dot = (T_e - self.GR * self.r_e * F_load) / self.J_e\n",
    "        self.w_e += self.w_e_dot * self.sample_time\n",
    "        \n",
    "        w_w = self.GR * self.w_e\n",
    "        s = (w_w * self.r_e - self.v) / self.v\n",
    "        \n",
    "        F_x = self.c * s if np.abs(s) < 1 else self.F_max\n",
    "        \n",
    "        self.a = (F_x - F_load) / self.m\n",
    "        self.v += self.a * self.sample_time\n",
    "        self.x += self.v * self.sample_time\n",
    "        \n"
   ]
  },
  {
   "cell_type": "markdown",
   "metadata": {},
   "source": [
    "Используя модель, в ячейке ниже мы можем посылаем постоянное положение педали акселератора на транспортное средство. Заметим, что скорость сходится к фиксированному значению, это происходит из-за аэродинамического сопротивления и установленного предела для силы тяги. \n",
    "\n",
    "Аналогичный профиль скорости можно увидеть, установив отрицательный угол наклона $\\alpha$. В этом случае гравитация разгоняет транспортное средство до предельной скорости, где оно уравновешивается силой сопротивления."
   ]
  },
  {
   "cell_type": "code",
   "execution_count": 6,
   "metadata": {},
   "outputs": [
    {
     "data": {
      "image/png": "[encoded data removed]",
      "text/plain": [
       "<Figure size 432x288 with 1 Axes>"
      ]
     },
     "metadata": {
      "needs_background": "light"
     },
     "output_type": "display_data"
    }
   ],
   "source": [
    "sample_time = 0.01\n",
    "time_end = 100\n",
    "model = Vehicle()\n",
    "\n",
    "t_data = np.arange(0,time_end,sample_time)\n",
    "v_data = np.zeros_like(t_data)\n",
    "\n",
    "# Accelerator pedal position in percentages between 0 and 1\n",
    "throttle = 0.2\n",
    "\n",
    "# incline angle (in radians)\n",
    "alpha = 0\n",
    "\n",
    "for i in range(t_data.shape[0]):\n",
    "    v_data[i] = model.v\n",
    "    model.step(throttle, alpha)\n",
    "    \n",
    "plt.plot(t_data, v_data)\n",
    "plt.ylabel('$V_x$ (m/s)')\n",
    "plt.xlabel('Time (s)')\n",
    "plt.show()"
   ]
  },
  {
   "cell_type": "markdown",
   "metadata": {},
   "source": [
    "Теперь мы будем вести машину вверх по склону, как показано на рисунке ниже."
   ]
  },
  {
   "cell_type": "code",
   "execution_count": 34,
   "metadata": {},
   "outputs": [
    {
     "data": {
      "text/html": [
       "<img src=\"images/incline_road.png\" width=\"600\"/>"
      ],
      "text/plain": [
       "<IPython.core.display.Image object>"
      ]
     },
     "execution_count": 34,
     "metadata": {},
     "output_type": "execute_result"
    }
   ],
   "source": [
    "Image(url= \"images/incline_road.png\", width=600)"
   ]
  },
  {
   "cell_type": "markdown",
   "metadata": {},
   "source": [
    "Для этого в течение 20 секунд предусмотрен трапецевидный профиль входа - положения педали акселератора (throttle), как показано на рисунке ниже."
   ]
  },
  {
   "cell_type": "code",
   "execution_count": 45,
   "metadata": {},
   "outputs": [
    {
     "data": {
      "text/html": [
       "<img src=\"images/throttle.png\" width=\"700\"/>"
      ],
      "text/plain": [
       "<IPython.core.display.Image object>"
      ]
     },
     "execution_count": 45,
     "metadata": {},
     "output_type": "execute_result"
    }
   ],
   "source": [
    "Image(url= \"images/throttle.png\", width=700)"
   ]
  },
  {
   "cell_type": "markdown",
   "metadata": {},
   "source": [
    "Автомобиль начинает движение на 20% положении педали акселератора и постепенно значение увеличивается до 50%. Это состояние сохраняется в течение 10 секунд, когда автомобиль поднимается по крутому склону, затем после этого автомобиль понижает положение педали до 0."
   ]
  },
  {
   "cell_type": "markdown",
   "metadata": {},
   "source": [
    "В ячейке ниже реализовано изменение угла наклона $\\alpha (x)$ в зависимости от пройденного пути и изменение положения педали акселератора $x_\\theta (t)$ в зависимости от времени, которые в дальнейшем подаются на вход динамической модели. \n",
    "Позиция автомобиля $x(t)$ передается в массив x_data . Далее этот массив будет использоваться для оценки полученной реализации."
   ]
  },
  {
   "cell_type": "code",
   "execution_count": 28,
   "metadata": {},
   "outputs": [],
   "source": [
    "time_end = 20\n",
    "t_data = np.arange(0,time_end,sample_time)\n",
    "x_data = np.zeros_like(t_data)\n",
    "th_data = np.zeros_like(t_data)\n",
    "alph_data = np.zeros_like(t_data)\n",
    "\n",
    "# reset the states\n",
    "model.reset()\n",
    "\n",
    "# throttle percentage between 0 and 1\n",
    "throttle = 0.2\n",
    "\n",
    "# incline angle (in radians)\n",
    "alpha = 0\n",
    "\n",
    "for i in range(t_data.shape[0]):\n",
    "    \n",
    "    if t_data[i] < 5:\n",
    "        throttle += 0.3 / 500\n",
    "    elif t_data[i] > 15:\n",
    "        throttle -= 0.5 / 500\n",
    "        \n",
    "    x_data[i] = model.x\n",
    "    \n",
    "    if 0 < x_data[i] < 60:\n",
    "        alpha = np.arctan(1 / 20)\n",
    "    elif 60 < x_data[i] < 150:\n",
    "        alpha = np.arctan(1 / 10)\n",
    "    else:\n",
    "        alpha = 0\n",
    "    \n",
    "    th_data[i] = throttle\n",
    "    alph_data[i] = alpha\n",
    "    model.step(throttle, alpha)\n"
   ]
  },
  {
   "cell_type": "markdown",
   "metadata": {},
   "source": [
    "На рисунке ниже представлен график перемещения автомобиля. Как мы видим, пройденный путь соответствует заданному при движении по склону (рисунок выше)."
   ]
  },
  {
   "cell_type": "code",
   "execution_count": 29,
   "metadata": {},
   "outputs": [
    {
     "data": {
      "image/png": "[encoded data removed]",
      "text/plain": [
       "<Figure size 432x288 with 1 Axes>"
      ]
     },
     "metadata": {
      "needs_background": "light"
     },
     "output_type": "display_data"
    }
   ],
   "source": [
    "# Plot x vs t for visualization\n",
    "plt.plot(t_data, x_data)\n",
    "plt.ylabel('$x$ (m)')\n",
    "plt.xlabel('Time (s)')\n",
    "plt.show()"
   ]
  },
  {
   "cell_type": "markdown",
   "metadata": {},
   "source": [
    "На рисунке ниже представлен график перемещения автомобиля. "
   ]
  },
  {
   "cell_type": "code",
   "execution_count": 27,
   "metadata": {},
   "outputs": [
    {
     "data": {
      "image/png": "[encoded data removed]",
      "text/plain": [
       "<Figure size 432x288 with 1 Axes>"
      ]
     },
     "metadata": {
      "needs_background": "light"
     },
     "output_type": "display_data"
    }
   ],
   "source": [
    "plt.plot(t_data, alph_data)\n",
    "plt.ylabel('\\u03B1(x)')\n",
    "plt.xlabel('Time (s)')\n",
    "plt.show()"
   ]
  },
  {
   "cell_type": "markdown",
   "metadata": {},
   "source": [
    "На рисунке ниже представлен график зависимости положения педали акселератора от времени. Мы видим, что автомобиль пересекает склон на ~15 секунде, где вход (положение педали акселератора) начинает уменьшаться."
   ]
  },
  {
   "cell_type": "code",
   "execution_count": 31,
   "metadata": {},
   "outputs": [
    {
     "data": {
      "image/png": "[encoded data removed]",
      "text/plain": [
       "<Figure size 432x288 with 1 Axes>"
      ]
     },
     "metadata": {
      "needs_background": "light"
     },
     "output_type": "display_data"
    }
   ],
   "source": [
    "plt.plot(t_data, th_data)\n",
    "plt.ylabel('$x_{\\u03B8}(t)$')\n",
    "plt.xlabel('Time (s)')\n",
    "plt.show()"
   ]
  },
  {
   "cell_type": "markdown",
   "metadata": {},
   "source": [
    "Как мы видим, пройденный путь соответствует заданному при движении по склону (рисунок в ячейке [34]). А также полученное положение педали акселератора соответствует заданному трапецевидному профилю входа (рисунок в ячейке [45]), что в свою очередь означает, что мы корректно реализовали динамическую модель продольного движения автомобиля."
   ]
  },
  {
   "cell_type": "markdown",
   "metadata": {},
   "source": [
    "###### Источники\n",
    "1. Rajamani R. (2012) Vehicle Dynamics and Control. Mechanical Engineering Series. Springer, Boston, MA"
   ]
  }
 ],
 "metadata": {
  "kernelspec": {
   "display_name": "Python 3",
   "language": "python",
   "name": "python3"
  },
  "language_info": {
   "codemirror_mode": {
    "name": "ipython",
    "version": 3
   },
   "file_extension": ".py",
   "mimetype": "text/x-python",
   "name": "python",
   "nbconvert_exporter": "python",
   "pygments_lexer": "ipython3",
   "version": "3.6.8"
  }
 },
 "nbformat": 4,
 "nbformat_minor": 2
}
